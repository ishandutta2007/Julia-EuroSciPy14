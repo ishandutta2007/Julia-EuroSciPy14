{
 "metadata": {
  "language": "Julia",
  "name": "",
  "signature": "sha256:93fc3a981d8f22e9152bcc3b19080fd3d770cadf657f60a4e633c9b5340efc4b"
 },
 "nbformat": 3,
 "nbformat_minor": 0,
 "worksheets": [
  {
   "cells": [
    {
     "cell_type": "heading",
     "level": 1,
     "metadata": {},
     "source": [
      "An IJulia Notebook"
     ]
    },
    {
     "cell_type": "markdown",
     "metadata": {},
     "source": [
      "This is an **IJulia notebook**, which is just like an **IPython** notebook, and is based on the same **Jupyter** engine and protocol, except that the code is executed by a **Julia kernel** rather than a Python kernel.\n",
      "\n",
      "Like an IPython notebook, it can mix code, multimedia results, headings, documentation, equations like $\\sqrt{\\int x^2 dx}$, and even interactive widgets."
     ]
    },
    {
     "cell_type": "heading",
     "level": 2,
     "metadata": {},
     "source": [
      "Julia and IJulia examples:"
     ]
    },
    {
     "cell_type": "markdown",
     "metadata": {},
     "source": [
      "* [Julia Basics](Basics.ipynb)\n",
      "* [Multiple Dispatch](Multiple Dispatch.ipynb)\n",
      "* [Calling C and Python](Calling C and Python.ipynb)\n",
      "* [Interactive Widgets](Interactive Widgets.ipynb)\n",
      "* [Metaprogramming](Metaprogramming.ipynb)"
     ]
    }
   ],
   "metadata": {}
  }
 ]
}