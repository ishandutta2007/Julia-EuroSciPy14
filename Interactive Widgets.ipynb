{
 "metadata": {
  "language": "Julia",
  "name": "",
  "signature": "sha256:39fc7a9b82a114d02df89961646138d56ac52459d778a3e40c4b1fcb47854190"
 },
 "nbformat": 3,
 "nbformat_minor": 0,
 "worksheets": [
  {
   "cells": [
    {
     "cell_type": "heading",
     "level": 1,
     "metadata": {},
     "source": [
      "Interactive Widgets in IJulia"
     ]
    },
    {
     "cell_type": "markdown",
     "metadata": {},
     "source": [
      "IPython 2.0 introduced interactive widgets, which are basically:\n",
      "\n",
      "* Javascript widgets (sliders, buttons, etcetera)\n",
      "* A communications protocol for the widgets to talk to the kernel\n",
      "* A Python interface to create and manipulate these.\n",
      "\n",
      "Thanks to fantastic work by a Google Summer of Code student, [Shashi Gowda](https://github.com/shashi/), the same features are accessible from a Julia interface."
     ]
    },
    {
     "cell_type": "code",
     "collapsed": false,
     "input": [
      "using Interact"
     ],
     "language": "python",
     "metadata": {},
     "outputs": [],
     "prompt_number": 3
    },
    {
     "cell_type": "code",
     "collapsed": false,
     "input": [
      "@manipulate for n in 1:100\n",
      "    rand(n,n)\n",
      "end"
     ],
     "language": "python",
     "metadata": {},
     "outputs": [
      {
       "html": [],
       "metadata": {},
       "output_type": "display_data",
       "text": [
        "Slider{Int64}([Input{Int64}] 50,\"n\",50,1:100)"
       ]
      },
      {
       "metadata": {
        "comm_id": "fb55db33-277b-4fa7-85a3-2cbe5c6be37b",
        "reactive": true
       },
       "output_type": "pyout",
       "prompt_number": 4,
       "text": [
        "50x50 Array{Float64,2}:\n",
        " 0.0783651  0.659912   0.493106  \u2026  0.00843273  0.390298    0.371666 \n",
        " 0.777267   0.693219   0.192893     0.616208    0.578022    0.557077 \n",
        " 0.943229   0.727943   0.476202     0.729187    0.802135    0.247574 \n",
        " 0.72757    0.524887   0.353149     0.264238    0.158479    0.636858 \n",
        " 0.34325    0.138554   0.192981     0.280109    0.227542    0.249223 \n",
        " 0.938034   0.655234   0.610706  \u2026  0.546524    0.932167    0.965825 \n",
        " 0.767394   0.578772   0.188317     0.945736    0.546516    0.377502 \n",
        " 0.763565   0.496797   0.157069     0.399278    0.964966    0.997327 \n",
        " 0.954463   0.356982   0.822894     0.219752    0.651061    0.494788 \n",
        " 0.138325   0.944702   0.115443     0.447035    0.576238    0.608754 \n",
        " 0.53938    0.0787142  0.922149  \u2026  0.792806    0.165075    0.679461 \n",
        " 0.374026   0.448081   0.856923     0.84534     0.721902    0.0439824\n",
        " 0.226981   0.869573   0.88941      0.758137    0.423605    0.299644 \n",
        " \u22ee                               \u22f1                                   \n",
        " 0.743885   0.0999547  0.19466      0.323379    0.630683    0.0714383\n",
        " 0.827333   0.462604   0.797415     0.737597    0.150168    0.240378 \n",
        " 0.869538   0.328771   0.677618  \u2026  0.410014    0.418106    0.643248 \n",
        " 0.752797   0.194726   0.292419     0.928435    0.378404    0.718977 \n",
        " 0.405323   0.275025   0.440214     0.782656    0.00042197  0.753483 \n",
        " 0.402975   0.412902   0.660082     0.925285    0.214545    0.946338 \n",
        " 0.513647   0.218183   0.404153     0.375432    0.434286    0.541837 \n",
        " 0.314132   0.25124    0.659074  \u2026  0.784845    0.694182    0.205578 \n",
        " 0.554015   0.229091   0.639937     0.631327    0.325274    0.68994  \n",
        " 0.132268   0.982651   0.056666     0.56603     0.767409    0.741117 \n",
        " 0.70252    0.716309   0.174637     0.0962708   0.626505    0.49941  \n",
        " 0.361128   0.118059   0.171592     0.835711    0.312115    0.109988 "
       ]
      }
     ],
     "prompt_number": 4
    },
    {
     "cell_type": "code",
     "collapsed": false,
     "input": [
      "using Color\n",
      "@manipulate for r in 0:0.1:1, g in 0:0.1:1, b in 0:0.1:1, n in 1:100\n",
      "    linspace(RGB(0,0,0), RGB(r,g,b), n)\n",
      "end"
     ],
     "language": "python",
     "metadata": {},
     "outputs": [
      {
       "html": [],
       "metadata": {},
       "output_type": "display_data",
       "text": [
        "Slider{Float64}([Input{Float64}] 0.5,\"r\",0.5,0.0:0.1:1.0)"
       ]
      },
      {
       "html": [],
       "metadata": {},
       "output_type": "display_data",
       "text": [
        "Slider{Float64}([Input{Float64}] 0.5,\"g\",0.5,0.0:0.1:1.0)"
       ]
      },
      {
       "html": [],
       "metadata": {},
       "output_type": "display_data",
       "text": [
        "Slider{Float64}([Input{Float64}] 0.5,\"b\",0.5,0.0:0.1:1.0)"
       ]
      },
      {
       "html": [],
       "metadata": {},
       "output_type": "display_data",
       "text": [
        "Slider{Int64}([Input{Int64}] 50,\"n\",50,1:100)"
       ]
      },
      {
       "metadata": {
        "comm_id": "cfbfcb16-4b25-4c2b-971e-439c9c469404",
        "reactive": true
       },
       "output_type": "pyout",
       "prompt_number": 5,
       "svg": [
        "<?xml version=\"1.0\" encoding=\"UTF-8\"?>\n",
        "<!DOCTYPE svg PUBLIC \"-//W3C//DTD SVG 1.1//EN\"\n",
        " \"http://www.w3.org/Graphics/SVG/1.1/DTD/svg11.dtd\">\n",
        "<svg xmlns=\"http://www.w3.org/2000/svg\" version=\"1.1\"\n",
        "     width=\"250.0mm\" height=\"25.0mm\"\n",
        "     shape-rendering=\"crispEdges\">\n",
        "<rect x=\"0.0mm\" y=\"0.0mm\"\n",
        "      width=\"4.0mm\" height=\"25.0mm\"\n",
        "      fill=\"#000000\" stroke=\"none\" />\n",
        "<rect x=\"5.0mm\" y=\"0.0mm\"\n",
        "      width=\"4.0mm\" height=\"25.0mm\"\n",
        "      fill=\"#030303\" stroke=\"none\" />\n",
        "<rect x=\"10.0mm\" y=\"0.0mm\"\n",
        "      width=\"4.0mm\" height=\"25.0mm\"\n",
        "      fill=\"#050505\" stroke=\"none\" />\n",
        "<rect x=\"15.0mm\" y=\"0.0mm\"\n",
        "      width=\"4.0mm\" height=\"25.0mm\"\n",
        "      fill=\"#080808\" stroke=\"none\" />\n",
        "<rect x=\"20.0mm\" y=\"0.0mm\"\n",
        "      width=\"4.0mm\" height=\"25.0mm\"\n",
        "      fill=\"#0A0A0A\" stroke=\"none\" />\n",
        "<rect x=\"25.0mm\" y=\"0.0mm\"\n",
        "      width=\"4.0mm\" height=\"25.0mm\"\n",
        "      fill=\"#0D0D0D\" stroke=\"none\" />\n",
        "<rect x=\"30.0mm\" y=\"0.0mm\"\n",
        "      width=\"4.0mm\" height=\"25.0mm\"\n",
        "      fill=\"#101010\" stroke=\"none\" />\n",
        "<rect x=\"35.0mm\" y=\"0.0mm\"\n",
        "      width=\"4.0mm\" height=\"25.0mm\"\n",
        "      fill=\"#121212\" stroke=\"none\" />\n",
        "<rect x=\"40.0mm\" y=\"0.0mm\"\n",
        "      width=\"4.0mm\" height=\"25.0mm\"\n",
        "      fill=\"#151515\" stroke=\"none\" />\n",
        "<rect x=\"45.0mm\" y=\"0.0mm\"\n",
        "      width=\"4.0mm\" height=\"25.0mm\"\n",
        "      fill=\"#171717\" stroke=\"none\" />\n",
        "<rect x=\"50.0mm\" y=\"0.0mm\"\n",
        "      width=\"4.0mm\" height=\"25.0mm\"\n",
        "      fill=\"#1A1A1A\" stroke=\"none\" />\n",
        "<rect x=\"55.0mm\" y=\"0.0mm\"\n",
        "      width=\"4.0mm\" height=\"25.0mm\"\n",
        "      fill=\"#1D1D1D\" stroke=\"none\" />\n",
        "<rect x=\"60.0mm\" y=\"0.0mm\"\n",
        "      width=\"4.0mm\" height=\"25.0mm\"\n",
        "      fill=\"#1F1F1F\" stroke=\"none\" />\n",
        "<rect x=\"65.0mm\" y=\"0.0mm\"\n",
        "      width=\"4.0mm\" height=\"25.0mm\"\n",
        "      fill=\"#222222\" stroke=\"none\" />\n",
        "<rect x=\"70.0mm\" y=\"0.0mm\"\n",
        "      width=\"4.0mm\" height=\"25.0mm\"\n",
        "      fill=\"#242424\" stroke=\"none\" />\n",
        "<rect x=\"75.0mm\" y=\"0.0mm\"\n",
        "      width=\"4.0mm\" height=\"25.0mm\"\n",
        "      fill=\"#272727\" stroke=\"none\" />\n",
        "<rect x=\"80.0mm\" y=\"0.0mm\"\n",
        "      width=\"4.0mm\" height=\"25.0mm\"\n",
        "      fill=\"#2A2A2A\" stroke=\"none\" />\n",
        "<rect x=\"85.0mm\" y=\"0.0mm\"\n",
        "      width=\"4.0mm\" height=\"25.0mm\"\n",
        "      fill=\"#2C2C2C\" stroke=\"none\" />\n",
        "<rect x=\"90.0mm\" y=\"0.0mm\"\n",
        "      width=\"4.0mm\" height=\"25.0mm\"\n",
        "      fill=\"#2F2F2F\" stroke=\"none\" />\n",
        "<rect x=\"95.0mm\" y=\"0.0mm\"\n",
        "      width=\"4.0mm\" height=\"25.0mm\"\n",
        "      fill=\"#313131\" stroke=\"none\" />\n",
        "<rect x=\"100.0mm\" y=\"0.0mm\"\n",
        "      width=\"4.0mm\" height=\"25.0mm\"\n",
        "      fill=\"#343434\" stroke=\"none\" />\n",
        "<rect x=\"105.0mm\" y=\"0.0mm\"\n",
        "      width=\"4.0mm\" height=\"25.0mm\"\n",
        "      fill=\"#373737\" stroke=\"none\" />\n",
        "<rect x=\"110.0mm\" y=\"0.0mm\"\n",
        "      width=\"4.0mm\" height=\"25.0mm\"\n",
        "      fill=\"#393939\" stroke=\"none\" />\n",
        "<rect x=\"115.0mm\" y=\"0.0mm\"\n",
        "      width=\"4.0mm\" height=\"25.0mm\"\n",
        "      fill=\"#3C3C3C\" stroke=\"none\" />\n",
        "<rect x=\"120.0mm\" y=\"0.0mm\"\n",
        "      width=\"4.0mm\" height=\"25.0mm\"\n",
        "      fill=\"#3E3E3E\" stroke=\"none\" />\n",
        "<rect x=\"125.0mm\" y=\"0.0mm\"\n",
        "      width=\"4.0mm\" height=\"25.0mm\"\n",
        "      fill=\"#414141\" stroke=\"none\" />\n",
        "<rect x=\"130.0mm\" y=\"0.0mm\"\n",
        "      width=\"4.0mm\" height=\"25.0mm\"\n",
        "      fill=\"#444444\" stroke=\"none\" />\n",
        "<rect x=\"135.0mm\" y=\"0.0mm\"\n",
        "      width=\"4.0mm\" height=\"25.0mm\"\n",
        "      fill=\"#464646\" stroke=\"none\" />\n",
        "<rect x=\"140.0mm\" y=\"0.0mm\"\n",
        "      width=\"4.0mm\" height=\"25.0mm\"\n",
        "      fill=\"#494949\" stroke=\"none\" />\n",
        "<rect x=\"145.0mm\" y=\"0.0mm\"\n",
        "      width=\"4.0mm\" height=\"25.0mm\"\n",
        "      fill=\"#4B4B4B\" stroke=\"none\" />\n",
        "<rect x=\"150.0mm\" y=\"0.0mm\"\n",
        "      width=\"4.0mm\" height=\"25.0mm\"\n",
        "      fill=\"#4E4E4E\" stroke=\"none\" />\n",
        "<rect x=\"155.0mm\" y=\"0.0mm\"\n",
        "      width=\"4.0mm\" height=\"25.0mm\"\n",
        "      fill=\"#515151\" stroke=\"none\" />\n",
        "<rect x=\"160.0mm\" y=\"0.0mm\"\n",
        "      width=\"4.0mm\" height=\"25.0mm\"\n",
        "      fill=\"#535353\" stroke=\"none\" />\n",
        "<rect x=\"165.0mm\" y=\"0.0mm\"\n",
        "      width=\"4.0mm\" height=\"25.0mm\"\n",
        "      fill=\"#565656\" stroke=\"none\" />\n",
        "<rect x=\"170.0mm\" y=\"0.0mm\"\n",
        "      width=\"4.0mm\" height=\"25.0mm\"\n",
        "      fill=\"#585858\" stroke=\"none\" />\n",
        "<rect x=\"175.0mm\" y=\"0.0mm\"\n",
        "      width=\"4.0mm\" height=\"25.0mm\"\n",
        "      fill=\"#5B5B5B\" stroke=\"none\" />\n",
        "<rect x=\"180.0mm\" y=\"0.0mm\"\n",
        "      width=\"4.0mm\" height=\"25.0mm\"\n",
        "      fill=\"#5E5E5E\" stroke=\"none\" />\n",
        "<rect x=\"185.0mm\" y=\"0.0mm\"\n",
        "      width=\"4.0mm\" height=\"25.0mm\"\n",
        "      fill=\"#606060\" stroke=\"none\" />\n",
        "<rect x=\"190.0mm\" y=\"0.0mm\"\n",
        "      width=\"4.0mm\" height=\"25.0mm\"\n",
        "      fill=\"#636363\" stroke=\"none\" />\n",
        "<rect x=\"195.0mm\" y=\"0.0mm\"\n",
        "      width=\"4.0mm\" height=\"25.0mm\"\n",
        "      fill=\"#656565\" stroke=\"none\" />\n",
        "<rect x=\"200.0mm\" y=\"0.0mm\"\n",
        "      width=\"4.0mm\" height=\"25.0mm\"\n",
        "      fill=\"#686868\" stroke=\"none\" />\n",
        "<rect x=\"205.0mm\" y=\"0.0mm\"\n",
        "      width=\"4.0mm\" height=\"25.0mm\"\n",
        "      fill=\"#6B6B6B\" stroke=\"none\" />\n",
        "<rect x=\"210.0mm\" y=\"0.0mm\"\n",
        "      width=\"4.0mm\" height=\"25.0mm\"\n",
        "      fill=\"#6D6D6D\" stroke=\"none\" />\n",
        "<rect x=\"215.0mm\" y=\"0.0mm\"\n",
        "      width=\"4.0mm\" height=\"25.0mm\"\n",
        "      fill=\"#707070\" stroke=\"none\" />\n",
        "<rect x=\"220.0mm\" y=\"0.0mm\"\n",
        "      width=\"4.0mm\" height=\"25.0mm\"\n",
        "      fill=\"#727272\" stroke=\"none\" />\n",
        "<rect x=\"225.0mm\" y=\"0.0mm\"\n",
        "      width=\"4.0mm\" height=\"25.0mm\"\n",
        "      fill=\"#757575\" stroke=\"none\" />\n",
        "<rect x=\"230.0mm\" y=\"0.0mm\"\n",
        "      width=\"4.0mm\" height=\"25.0mm\"\n",
        "      fill=\"#787878\" stroke=\"none\" />\n",
        "<rect x=\"235.0mm\" y=\"0.0mm\"\n",
        "      width=\"4.0mm\" height=\"25.0mm\"\n",
        "      fill=\"#7A7A7A\" stroke=\"none\" />\n",
        "<rect x=\"240.0mm\" y=\"0.0mm\"\n",
        "      width=\"4.0mm\" height=\"25.0mm\"\n",
        "      fill=\"#7D7D7D\" stroke=\"none\" />\n",
        "<rect x=\"245.0mm\" y=\"0.0mm\"\n",
        "      width=\"4.0mm\" height=\"25.0mm\"\n",
        "      fill=\"#808080\" stroke=\"none\" />\n",
        "</svg>"
       ],
       "text": [
        "50-element Array{RGB{Float64},1}:\n",
        " RGB{Float64}(0.0,0.0,0.0)                                                   \n",
        " RGB{Float64}(0.010204081632653073,0.010204081632653073,0.010204081632653073)\n",
        " RGB{Float64}(0.020408163265306145,0.020408163265306145,0.020408163265306145)\n",
        " RGB{Float64}(0.030612244897959162,0.030612244897959162,0.030612244897959162)\n",
        " RGB{Float64}(0.040816326530612235,0.040816326530612235,0.040816326530612235)\n",
        " RGB{Float64}(0.05102040816326531,0.05102040816326531,0.05102040816326531)   \n",
        " RGB{Float64}(0.06122448979591838,0.06122448979591838,0.06122448979591838)   \n",
        " RGB{Float64}(0.07142857142857145,0.07142857142857145,0.07142857142857145)   \n",
        " RGB{Float64}(0.08163265306122447,0.08163265306122447,0.08163265306122447)   \n",
        " RGB{Float64}(0.09183673469387754,0.09183673469387754,0.09183673469387754)   \n",
        " RGB{Float64}(0.10204081632653061,0.10204081632653061,0.10204081632653061)   \n",
        " RGB{Float64}(0.11224489795918369,0.11224489795918369,0.11224489795918369)   \n",
        " RGB{Float64}(0.12244897959183676,0.12244897959183676,0.12244897959183676)   \n",
        " \u22ee                                                                           \n",
        " RGB{Float64}(0.3877551020408163,0.3877551020408163,0.3877551020408163)      \n",
        " RGB{Float64}(0.3979591836734694,0.3979591836734694,0.3979591836734694)      \n",
        " RGB{Float64}(0.40816326530612246,0.40816326530612246,0.40816326530612246)   \n",
        " RGB{Float64}(0.41836734693877553,0.41836734693877553,0.41836734693877553)   \n",
        " RGB{Float64}(0.4285714285714286,0.4285714285714286,0.4285714285714286)      \n",
        " RGB{Float64}(0.4387755102040816,0.4387755102040816,0.4387755102040816)      \n",
        " RGB{Float64}(0.4489795918367347,0.4489795918367347,0.4489795918367347)      \n",
        " RGB{Float64}(0.45918367346938777,0.45918367346938777,0.45918367346938777)   \n",
        " RGB{Float64}(0.46938775510204084,0.46938775510204084,0.46938775510204084)   \n",
        " RGB{Float64}(0.47959183673469385,0.47959183673469385,0.47959183673469385)   \n",
        " RGB{Float64}(0.4897959183673469,0.4897959183673469,0.4897959183673469)      \n",
        " RGB{Float64}(0.5,0.5,0.5)                                                   "
       ]
      }
     ],
     "prompt_number": 5
    },
    {
     "cell_type": "code",
     "collapsed": false,
     "input": [
      "using PyPlot"
     ],
     "language": "python",
     "metadata": {},
     "outputs": [
      {
       "output_type": "stream",
       "stream": "stderr",
       "text": [
        "INFO: Loading help data...\n"
       ]
      }
     ],
     "prompt_number": 2
    },
    {
     "cell_type": "code",
     "collapsed": false,
     "input": [
      "x = linspace(0,10,1000)\n",
      "f = figure()\n",
      "@manipulate for \u03b1 = 1:0.1:4, \u03b2 = 1:0.1:4, leg=\"a funny plot\"\n",
      "    withfig(f) do\n",
      "        plot(x, cos(\u03b1*x + sin(\u03b2*x)))\n",
      "        legend([leg])\n",
      "    end\n",
      "end"
     ],
     "language": "python",
     "metadata": {},
     "outputs": [
      {
       "html": [],
       "metadata": {},
       "output_type": "display_data",
       "text": [
        "Slider{Float64}([Input{Float64}] 2.5,\"\u03b1\",2.5,1.0:0.1:4.0)"
       ]
      },
      {
       "html": [],
       "metadata": {},
       "output_type": "display_data",
       "text": [
        "Slider{Float64}([Input{Float64}] 2.5,\"\u03b2\",2.5,1.0:0.1:4.0)"
       ]
      },
      {
       "html": [],
       "metadata": {},
       "output_type": "display_data",
       "text": [
        "Textbox{ASCIIString}([Input{ASCIIString}] a funny plot,\"leg\",nothing,\"a funny plot\")"
       ]
      },
      {
       "metadata": {},
       "output_type": "display_data",
       "text": [
        "Figure(PyObject <matplotlib.figure.Figure object at 0x111ad0f10>)"
       ]
      },
      {
       "metadata": {
        "comm_id": "5dbb1301-7dbe-4721-ad44-5fe6ff6a2e1f",
        "reactive": true
       },
       "output_type": "pyout",
       "png": "[encoded data removed]",
       "prompt_number": 6,
       "text": [
        "Figure(PyObject <matplotlib.figure.Figure object at 0x11d7e7b50>)"
       ]
      }
     ],
     "prompt_number": 6
    },
    {
     "cell_type": "code",
     "collapsed": false,
     "input": [
      "using SymPy\n",
      "x = sym\"x\"\n",
      "@manipulate for n=0:20\n",
      "    latex(SymPy.diff(sin(x^2), x, n))\n",
      "end"
     ],
     "language": "python",
     "metadata": {},
     "outputs": [
      {
       "html": [],
       "metadata": {},
       "output_type": "display_data",
       "text": [
        "Slider{Int64}([Input{Int64}] 10,\"n\",10,0:20)"
       ]
      },
      {
       "metadata": {},
       "output_type": "display_data",
       "text": [
        "Figure(PyObject <matplotlib.figure.Figure object at 0x12408b590>)"
       ]
      },
      {
       "html": [],
       "metadata": {},
       "output_type": "pyout",
       "prompt_number": 7,
       "text": [
        "Latex(\"\",\"\\$\\$32 \\\\left(- 32 x^{10} \\\\sin{\\\\left (x^{2} \\\\right )} + 720 x^{8} \\\\cos{\\\\left (x^{2} \\\\right )} + 5040 x^{6} \\\\sin{\\\\left (x^{2} \\\\right )} - 12600 x^{4} \\\\cos{\\\\left (x^{2} \\\\right )} - 9450 x^{2} \\\\sin{\\\\left (x^{2} \\\\right )} + 945 \\\\cos{\\\\left (x^{2} \\\\right )}\\\\right)\\$\\$\")"
       ]
      },
      {
       "output_type": "stream",
       "stream": "stderr",
       "text": [
        "Warning: imported binding for transpose overwritten in module __anon__\n"
       ]
      }
     ],
     "prompt_number": 7
    },
    {
     "cell_type": "code",
     "collapsed": false,
     "input": [],
     "language": "python",
     "metadata": {},
     "outputs": []
    }
   ],
   "metadata": {}
  }
 ]
}